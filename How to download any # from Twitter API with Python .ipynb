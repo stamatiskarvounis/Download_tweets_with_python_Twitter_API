{
 "cells": [
  {
   "cell_type": "markdown",
   "metadata": {},
   "source": [
    "### Twitter"
   ]
  },
  {
   "cell_type": "markdown",
   "metadata": {},
   "source": [
    "#### 1. Create Twitter Developer Account"
   ]
  },
  {
   "cell_type": "markdown",
   "metadata": {},
   "source": [
    "Go to: https://developer.twitter.com/en/apply-for-access and apply for a developer account. \n"
   ]
  },
  {
   "cell_type": "markdown",
   "metadata": {},
   "source": [
    "Once you get access to your developer account you will be able to use Twitter API for your project.\n"
   ]
  },
  {
   "cell_type": "markdown",
   "metadata": {},
   "source": [
    "You should read the \"Restricted use cases\" before starting your project just to be on the safe side."
   ]
  },
  {
   "attachments": {},
   "cell_type": "markdown",
   "metadata": {},
   "source": [
    "#### 2. Create an App"
   ]
  },
  {
   "cell_type": "markdown",
   "metadata": {},
   "source": [
    "While logged in go to: https://developer.twitter.com/en/apps/create"
   ]
  },
  {
   "cell_type": "markdown",
   "metadata": {},
   "source": [
    "Give a description of your project and fill the required fields"
   ]
  },
  {
   "attachments": {},
   "cell_type": "markdown",
   "metadata": {},
   "source": [
    "Once you have your new app you will be able to access it. Inside your app there is a tab called \"Keys and Tokens\". "
   ]
  },
  {
   "cell_type": "markdown",
   "metadata": {},
   "source": [
    "You will be able to generate \"Consumer API keys\" and \"Access token & access token secret\". These series of codes will be used later to the tweepy "
   ]
  },
  {
   "cell_type": "markdown",
   "metadata": {},
   "source": [
    "You are good to go"
   ]
  },
  {
   "cell_type": "markdown",
   "metadata": {},
   "source": [
    "### Python"
   ]
  },
  {
   "cell_type": "markdown",
   "metadata": {},
   "source": [
    "#### 1. Importing libraries\n"
   ]
  },
  {
   "cell_type": "code",
   "execution_count": null,
   "metadata": {},
   "outputs": [],
   "source": [
    "import tweepy\n",
    "import csv\n",
    "import pandas as pd"
   ]
  },
  {
   "cell_type": "markdown",
   "metadata": {},
   "source": [
    "#### 2. insert App credentials"
   ]
  },
  {
   "cell_type": "code",
   "execution_count": null,
   "metadata": {},
   "outputs": [],
   "source": [
    "consumer_key = 'xxxxxxxxxxxxxxxxxxxxxxxxxxxxx' #insert your API key\n",
    "consumer_secret = 'xxxxxxxxxxxxxxxxxxxxxxxxxxxxxxxxxxxxx' #insert your API secret key\n",
    "access_token = 'xxxxxxxxxxxxxxxxxxxxxxxxxxxxxxxxxx' #insert Access token\n",
    "access_token_secret = 'xxxxxxxxxxxxxxxxxxxxxxxxxxxxxxxxx' #Access token secret\n",
    "\n",
    "auth = tweepy.OAuthHandler(consumer_key, consumer_secret)\n",
    "auth.set_access_token(access_token, access_token_secret)\n",
    "api = tweepy.API(auth,wait_on_rate_limit=True)"
   ]
  },
  {
   "cell_type": "markdown",
   "metadata": {},
   "source": [
    "#### 3. Create a csv.file that will hold all the downloaded tweets"
   ]
  },
  {
   "cell_type": "code",
   "execution_count": null,
   "metadata": {},
   "outputs": [],
   "source": [
    "csvFile = open('tweets.csv', 'a')"
   ]
  },
  {
   "cell_type": "markdown",
   "metadata": {},
   "source": [
    "#### 4. Write tweets in the csv file"
   ]
  },
  {
   "cell_type": "code",
   "execution_count": null,
   "metadata": {},
   "outputs": [],
   "source": [
    "csvWriter = csv.writer(csvFile)\n",
    "\n",
    "for tweet in tweepy.Cursor(api.search,q=\"#xxxx\",count=100,    # instead of xxxx you can use any hashtag of your choise\n",
    "                           lang=\"en\",\n",
    "                           since=\"xxxx-xx-xx\").items():       #xxxx-xx-xx use date(you can go back 2 weeks before present date)\n",
    "    print (tweet.created_at, tweet.text, 'utf-8')\n",
    "    csvWriter.writerow([tweet.created_at, tweet.text.encode('utf-8')])"
   ]
  }
 ],
 "metadata": {
  "kernelspec": {
   "display_name": "Python 3",
   "language": "python",
   "name": "python3"
  },
  "language_info": {
   "codemirror_mode": {
    "name": "ipython",
    "version": 3
   },
   "file_extension": ".py",
   "mimetype": "text/x-python",
   "name": "python",
   "nbconvert_exporter": "python",
   "pygments_lexer": "ipython3",
   "version": "3.7.4"
  }
 },
 "nbformat": 4,
 "nbformat_minor": 2
}
